{
  "nbformat": 4,
  "nbformat_minor": 0,
  "metadata": {
    "colab": {
      "provenance": []
    },
    "kernelspec": {
      "name": "python3",
      "display_name": "Python 3"
    },
    "language_info": {
      "name": "python"
    }
  },
  "cells": [
    {
      "cell_type": "markdown",
      "source": [
        "##Effect of different training_testing_proportion on PANN performance"
      ],
      "metadata": {
        "id": "Yu4Zt4QIRqNb"
      }
    },
    {
      "cell_type": "code",
      "source": [
        "import numpy as np\n",
        "import matplotlib.pyplot as plt\n",
        "import seaborn as sns\n",
        "from sklearn.metrics import confusion_matrix, accuracy_score, precision_score, recall_score, f1_score\n",
        "from sklearn.model_selection import train_test_split\n",
        "from keras.models import Sequential\n",
        "from keras.layers import Dense\n",
        "from keras.optimizers import SGD\n",
        "from keras.layers import Dense, Dropout\n",
        "\n",
        "\n",
        "# Split the data into training and testing sets\n",
        "X_train, X_test, y_train, y_test = train_test_split(X, y, test_size=0.4, random_state=42)\n",
        "\n",
        "# Define a function to create and compile the model with a specified learning rate\n",
        "def create_model(lr):\n",
        "    model = Sequential()\n",
        "    model.add(Dense(128, input_dim=X_train.shape[1], activation='relu'))\n",
        "    model.add(Dropout(0.3))\n",
        "    model.add(Dense(64, activation='relu'))\n",
        "    model.add(Dropout(0.2))\n",
        "    model.add(Dense(32, activation='relu'))\n",
        "    model.add(Dense(1, activation='sigmoid'))\n",
        "    optimizer = SGD(learning_rate=lr)\n",
        "    model.compile(optimizer=optimizer, loss='binary_crossentropy', metrics=['accuracy'])\n",
        "    return model\n",
        "\n",
        "# Define a list of training and testing proportions to try\n",
        "proportions = [(0.6, 0.4), (0.7, 0.3), (0.8, 0.2)]\n",
        "\n",
        "# Initialize lists to store the accuracy and loss for each proportion\n",
        "accuracy_list = []\n",
        "loss_list = []\n",
        "\n",
        "# Loop over the proportions and train and evaluate the model for each one\n",
        "for train_prop, test_prop in proportions:\n",
        "    # Split the data into training and testing sets\n",
        "    X_train, X_test, y_train, y_test = train_test_split(X, y, test_size=test_prop, random_state=42)\n",
        "\n",
        "    # Create a sequential neural network model\n",
        "    model = Sequential()\n",
        "    model.add(Dense(128, input_dim=X_train.shape[1], activation='relu'))\n",
        "    model.add(Dropout(0.5))\n",
        "    model.add(Dense(64, activation='relu'))\n",
        "    model.add(Dropout(0.5))\n",
        "    model.add(Dense(32, activation='relu'))\n",
        "    model.add(Dense(1, activation='sigmoid'))\n",
        "    # Compile the model\n",
        "    #model.compile(optimizer='adam', loss='binary_crossentropy', metrics=['accuracy'])\n",
        "    model.compile(optimizer=Adam(lr=0.0009), loss='binary_crossentropy', metrics=['accuracy'])\n",
        "\n",
        "    # Train the model and capture history\n",
        "    history = model.fit(X_train, y_train, epochs=200, batch_size=32, verbose=1, validation_split=train_prop)\n",
        "\n",
        "    # Evaluate the model\n",
        "    y_pred = model.predict(X_test)\n",
        "    y_pred = np.round(y_pred).flatten()\n",
        "\n",
        "    # Calculate accuracy\n",
        "    accuracy = accuracy_score(y_test, y_pred)\n",
        "\n",
        "    # Calculate loss\n",
        "    loss = model.evaluate(X_test, y_test)[0]\n",
        "\n",
        "    # Append the accuracy and loss to the lists\n",
        "    accuracy_list.append(accuracy)\n",
        "    loss_list.append(loss)\n",
        "\n",
        "    # Print the results\n",
        "    print(\"Training proportion: {}, Testing proportion: {}\".format(train_prop, test_prop))\n",
        "    print(\"Accuracy: {:.4f}\".format(accuracy))\n",
        "    print(\"Loss: {:.4f}\".format(loss))\n",
        "\n",
        "# Create a DataFrame to store the results\n",
        "df_results = pd.DataFrame({'train_prop': [p[0] for p in proportions], 'test_prop': [p[1] for p in proportions], 'accuracy': accuracy_list, 'loss': loss_list})\n",
        "\n",
        "# Plot the accuracy and loss vs training proportion\n",
        "fig, ax = plt.subplots(2, 1, figsize=(8, 8))\n",
        "sns.lineplot(x='train_prop', y='accuracy', data=df_results, ax=ax[0])\n",
        "ax[0].set_title('Accuracy vs Training Proportion')\n",
        "sns.lineplot(x='train_prop', y='loss', data=df_results, ax=ax[1])\n",
        "ax[1].set_title('Loss vs Training Proportion')\n",
        "plt.tight_layout()\n",
        "plt.show()\n",
        "\n"
      ],
      "metadata": {
        "id": "qhsrsQdXRlMa"
      },
      "execution_count": null,
      "outputs": []
    },
    {
      "cell_type": "code",
      "source": [],
      "metadata": {
        "id": "wV-YyBJtRlP3"
      },
      "execution_count": null,
      "outputs": []
    }
  ]
}
{
  "nbformat": 4,
  "nbformat_minor": 0,
  "metadata": {
    "colab": {
      "provenance": []
    },
    "kernelspec": {
      "name": "python3",
      "display_name": "Python 3"
    },
    "language_info": {
      "name": "python"
    }
  },
  "cells": [
    {
      "cell_type": "code",
      "execution_count": null,
      "metadata": {
        "id": "KJQ_mCUOEvKr"
      },
      "outputs": [],
      "source": [
        "import pandas as pd\n",
        "import librosa\n",
        "import numpy as np\n",
        "\n",
        "# Load the Excel file containing samples into a DataFrame\n",
        "file_path = '/'\n",
        "df = pd.read_excel(file_path)\n",
        "\n",
        "# Assuming your audio data is in a column named 'Voice_samples' as a list of numbers\n",
        "Voice_samples = df['samples'].tolist()\n",
        "\n",
        "# Sample rate\n",
        "sampling_rate = 44100\n",
        "\n",
        "# Calculate pitch for each sample\n",
        "def calculate_pitch(sample, sampling_rate):\n",
        "    # Calculate the pitch using the yin algorithm in librosa\n",
        "    pitches, magnitudes = librosa.piptrack(y=sample, sr=sampling_rate)\n",
        "\n",
        "    # Get the index of the maximum magnitude\n",
        "    index = np.argmax(magnitudes)\n",
        "\n",
        "    # Extract the pitch at the maximum magnitude index\n",
        "    pitch = pitches[index]\n",
        "\n",
        "    return pitch\n",
        "\n",
        "# Calculate pitch for each voice sample in the DataFrame\n",
        "pitch_values = []\n",
        "for sample in samples:\n",
        "    pitch = calculate_pitch(sample, sampling_rate)\n",
        "    pitch_values.append(pitch)\n",
        "\n",
        "# Add the calculated pitch values to the DataFrame\n",
        "df['pitch'] = pitch_values\n",
        "\n"
      ]
    }
  ]
}